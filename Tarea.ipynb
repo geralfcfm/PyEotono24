{
 "cells": [
  {
   "cell_type": "markdown",
   "metadata": {},
   "source": [
    "# Tarea Probabilidad"
   ]
  },
  {
   "cell_type": "markdown",
   "metadata": {},
   "source": [
    "1. Alice tiene 2 hijos y uno de ellos es niña. ¿Cuál es la probabilidad dque el otro hijo también sea niña?"
   ]
  },
  {
   "cell_type": "markdown",
   "metadata": {},
   "source": [
    "2. Un dado justo se tira 2 veces. ¿Cuál es la probabilidad de obtener un 2 en la primera tirada y no tener un 4 en la segunda tirada?"
   ]
  },
  {
   "cell_type": "markdown",
   "metadata": {},
   "source": [
    "3. Consideremos un dado de 4 lados (Tetraedro) que se tira 2 veces. ¿Cual es la probabilidad de que el número en la primera tirada se estríctamente mas gande que el número que sale en la segunda tirada? "
   ]
  },
  {
   "cell_type": "markdown",
   "metadata": {},
   "source": [
    "4. Anita elige aleatoreamente 4 cartas de un mazo de 52 cartas y las regresa al mazo. Luego Babita elige 8 cartas del mazo. ¿Cuál es la probabilidad de que las 4 cartas que eligió Anita se encontraran en la 8 cartas que eligió Babita?"
   ]
  },
  {
   "cell_type": "markdown",
   "metadata": {},
   "source": [
    "5. En un juego de cartas, a un jugador se le reparten 13 cartas de un mazo de 52 cartas. ¿Cuál es la probabilidad de que la carta 13 que se te reparta sea un rey si no te salió un rey en las primeras 12 cartas?. (Hay 4 reyes en el mazo)"
   ]
  },
  {
   "cell_type": "markdown",
   "metadata": {},
   "source": [
    "6. En un dado de 6 caras. ¿Cuál es la probabilidad de que en 6 tiradas, todos los resultados sean únicos? (En cada tirada un número diferente)"
   ]
  },
  {
   "cell_type": "markdown",
   "metadata": {
    "vscode": {
     "languageId": "plaintext"
    }
   },
   "source": [
    "7. Un grupo de 60 estudiantes se separa en 3 clases del mismo tamaño. Jack y Jill son estudiantes de este grupo. ¿Cuál es la probabilidad de que les toque en la misma clase?"
   ]
  },
  {
   "cell_type": "markdown",
   "metadata": {},
   "source": [
    "8. Se tiene la moneda A y la moneda B. La moneda A tiene 1/2 de probabilidad de salir águila o sol en cada tirada. La probabilidad de sacar sol en la moneda B es 1/3. Si seleccionamos una moneda aleatóreamente y la tiramos hasta obtener sol. La probabilidad de seleccionar la moneda A es 1/4 y la probabilidad de seleccionar la moneda B es 3/4. ¿Cuál es el número esperado de veces que tiraremos la moneda para obtener sol?"
   ]
  },
  {
   "cell_type": "markdown",
   "metadata": {},
   "source": [
    "9. Una compañia de seguros vende seguro de vida que paga 240000.- pesos y la póliza es válida por 1 año. Le vende el seguro a una jóven de 25 años por 210 pesos. La probabilidad de que la cliente sobreviva el año es 0.999592 . ¿Cual es el valor esperado de esta póliza para la compañía de seguros?  "
   ]
  },
  {
   "cell_type": "markdown",
   "metadata": {},
   "source": [
    "10. Una ruleta tiene 38 sitios. 18 son rojos, 18 son negros y 2 verdes. Si juegas 5 veces y siempre apuestas al rojo. ¿Cuántos juegos se puede esperar ganar?"
   ]
  },
  {
   "cell_type": "markdown",
   "metadata": {},
   "source": [
    "11. Una ruleta tiene 38 sitios. 18 son rojos, 18 son negros y 2 verdes. Si juegas 5 veces y siempre apuestas al rojo. ¿Cual es la probabilidad de ganar los 5 juegos?"
   ]
  },
  {
   "cell_type": "markdown",
   "metadata": {},
   "source": [
    "12. Considera la siguiente densidad de probabilidad $\\frac{1}{8}e^{-x/8}$ para x>=0. ¿Cual es la probabilidad de X<=6?"
   ]
  },
  {
   "cell_type": "markdown",
   "metadata": {},
   "source": [
    "13. ¿Cuál es la probabilidad de que estudiantes tengan su cumpleaños en el mismo día en una clase de 30 estudiantes?"
   ]
  },
  {
   "cell_type": "markdown",
   "metadata": {
    "vscode": {
     "languageId": "plaintext"
    }
   },
   "source": [
    "14. Si estás vendiendo sandwiches. Y el 70\\% de las personas elgien de huevo y el resto de pollo. ¿Cuál es la probabilidad de vender 2 sandwiches de huevo dentro de los 3 siguientes clientes?"
   ]
  },
  {
   "cell_type": "markdown",
   "metadata": {},
   "source": [
    "15. Un hostipal ha registrado que el 75\\% de pacientes sufriendo una enfermedad mueren debido a ella. ¿Cuál es la probabilidad de que 4 de 6 pacientes seleccionados al azar se recuperen?"
   ]
  },
  {
   "cell_type": "markdown",
   "metadata": {},
   "source": [
    "16. En una clase se realizaron 2 exámenes. El 25\\% de los estudiantes aprobó los 2 exámenes. El 45 \\% aprobó el primer examen. ¿Que porcentaje aprobó el 2o examen?"
   ]
  },
  {
   "cell_type": "markdown",
   "metadata": {},
   "source": [
    "17. Jack tiene 2 monedas. Una normal (2 lados distintos) y otra que tiene \"sol\" por los 2 lados. Si no se da cuenta que moneda arrojó y cayó \"sol\". ¿Cual es la probabilidad de que la moneda que arrojó sea la que tiene \"sol\" por ambos lados?"
   ]
  },
  {
   "cell_type": "markdown",
   "metadata": {},
   "source": [
    "18. La probabilidad de tener cierta enfermedad en una población es de 0.00148. La prueba de laboratorio para dicha enfermedad tiene una tasa de 93\\% de verdaderos positivos (sale positiva cuando realmente se tiene la enfermedad el 93 \\% de las veces). Y su tasa de verdaderos negativos es de 99 \\% (Sale negativa cuando no se tiene la enfermedad el 99 \\% de las veces). ¿Cuál es la probabilidad de tener la enfermedad dado que la prueba salió positiva? Nota: Recordar el teorema de Bayes P(A | B)P(B) = P(B|A)P(A)"
   ]
  }
 ],
 "metadata": {
  "language_info": {
   "name": "python"
  }
 },
 "nbformat": 4,
 "nbformat_minor": 2
}
